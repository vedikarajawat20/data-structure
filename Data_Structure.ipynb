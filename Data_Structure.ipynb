{
  "nbformat": 4,
  "nbformat_minor": 0,
  "metadata": {
    "colab": {
      "provenance": []
    },
    "kernelspec": {
      "name": "python3",
      "display_name": "Python 3"
    },
    "language_info": {
      "name": "python"
    }
  },
  "cells": [
    {
      "cell_type": "markdown",
      "source": [
        "1. What are data structures, and why are they important ?\n",
        "    Data sturctures are ways of organising and storing data so that it can be accessed and modified efficientiy.They define the layout of data in memory and determine the operations that can be performed on that data .\n",
        "    Common types of data structures include:\n",
        "  (a)  Linear Data Structures: Arrays, linked lists, stacks, queues\n",
        "  (b)  Non-linear Data Structures: Trees, Graphs\n",
        "  (c)  Hash-Based Structures: Hash Tables ,Hash Maps\n",
        "  (d)  Specialised Structure: Heaps, Tries\n",
        "1. Efficient Data Management- They help store, retrieve, and manipulate data effectively.\n",
        "2. Optimised Performance- Choosing the right data structures improves processing time and memory usage.\n",
        "3. Facilitate Algorithm Impiementation- Many algorithm depend on specfic data structures for efficient execution.\n",
        "4. Scalability- Good data structures allow systems to handle large-scale data efficiently.\n",
        "5. Problem-Solving- They provide frameworks for solving complex computing problems.\n"
      ],
      "metadata": {
        "id": "hkk9-GH-b2cq"
      }
    },
    {
      "cell_type": "markdown",
      "source": [
        "# New Section"
      ],
      "metadata": {
        "id": "8bvMixyrdkGl"
      }
    },
    {
      "cell_type": "code",
      "source": [
        "from google.colab import drive\n",
        "drive.mount('/content/drive')"
      ],
      "metadata": {
        "id": "S5SnwjmqoIh4"
      },
      "execution_count": null,
      "outputs": []
    },
    {
      "cell_type": "markdown",
      "source": [],
      "metadata": {
        "id": "F6vtaxKu-mmC"
      }
    },
    {
      "cell_type": "markdown",
      "source": [
        "2. Explain the difference between mutable and immutable data types with examples.\n",
        "They key difference between mutable and immutable data typrs is whether theirb values can be changed after creation.\n",
        "Mutable Data Types:\n",
        "Definition: Can be changed after creation.\n",
        "Storage: Changes affect the original object.\n",
        "Examples: Lists, Dictionaries, Sets\n",
        "Immutable Data Types:\n",
        "Definition: Cannot de changed after creation'\n",
        "Storage: Changes create a new object .\n",
        "Examples: Strings,Tuples,Integers,Floats\n"
      ],
      "metadata": {
        "id": "xyjyoI8Oc_FO"
      }
    },
    {
      "cell_type": "markdown",
      "source": [],
      "metadata": {
        "id": "U6XyfQAdpDit"
      }
    },
    {
      "cell_type": "code",
      "source": [
        "my_list=[1,2,3]\n",
        "my_lists.append(4) # Modifying the list\n",
        "print(my_list) #  Output: [1,2,3,4]\n"
      ],
      "metadata": {
        "id": "uLxLHaj5naPX"
      },
      "execution_count": null,
      "outputs": []
    },
    {
      "cell_type": "code",
      "source": [
        "my_string = \"Hello\"\n",
        "my_string+= \"World\" # Creates a new\n",
        "string object\n",
        "print (my_string) # Output: \"Hello World\n",
        "\""
      ],
      "metadata": {
        "id": "7ucnBB7VnjLC"
      },
      "execution_count": null,
      "outputs": []
    },
    {
      "cell_type": "markdown",
      "source": [
        "3. What are the main differences between lists and tuples in Python?\n",
        "Feature:List(list)\n",
        "Mutability: Mutable (can be changed )\n",
        "Syntax: Defined using[] (square brackets)\n",
        "Performance:Slightly slower due to mutability\n",
        "Memory Usage: Requires more memory\n",
        "Modification:Supports appending,removing,and updating elements\n",
        "Use Cases:Suitable for dynamic data\n"
      ],
      "metadata": {
        "id": "4nz8rY_VcIfk"
      }
    },
    {
      "cell_type": "code",
      "source": [
        "List Example(Mutable)\n",
        "my_list = [1,2,3]\n",
        "my_list.append(4)# Modifies the list\n",
        "print(my_list)# Output: [1,2,3,4]"
      ],
      "metadata": {
        "id": "G5XPIpP2uJOi"
      },
      "execution_count": null,
      "outputs": []
    },
    {
      "cell_type": "markdown",
      "source": [
        "Tuple(tuple)\n",
        "Mutability:Mutable (cannot be changed)\n",
        "Syntax: Defined using() (parentheses)\n",
        "Performance: Faster due to immutability\n",
        "Memory Usage: Requires less memory\n",
        "Modification: Does not support modification after creation\n",
        "Use Cases:Suitable for fixed data (e.g.,constants)\n"
      ],
      "metadata": {
        "id": "tgpqCNF8vA9r"
      }
    },
    {
      "cell_type": "code",
      "source": [
        "Tuple Example(Immutable)\n",
        "my_tuple = (1,2,3)\n",
        "#my_tuple[0]= 4 # This would raise an error\n",
        "print (my_tuple) # Output:(1,2,3)"
      ],
      "metadata": {
        "id": "-rg7510F0Yyo"
      },
      "execution_count": null,
      "outputs": []
    },
    {
      "cell_type": "markdown",
      "source": [
        "4. Describe how dictionaries store data.\n",
        "A dictionary in python is an unordered, mutable collection that stores data in key-value pairs. It allows fast lookups, insertions,and deletions using a hash table internally.\n",
        "1. Hashing Keys:\n",
        "* Each key in a dictionary is hashed using a hash function to generate a unique integer.\n",
        "* This hash values determines the location in an internal array where the value is stored.\n",
        "2. Collisions Handling:\n",
        "* When two keys generate the same hash, python uses open addressing or chaining to reslove it '\n",
        "3. Dynamics Resising:\n",
        "* When a dictionary gets tool full , it resizes by creating a new , larger hash table and rehashing existing entries .\n",
        "\n",
        "\n",
        "\n",
        "\n",
        "\n",
        "\n",
        "\n",
        "\n",
        "\n",
        "\n"
      ],
      "metadata": {
        "id": "wkfPOcB_198z"
      }
    },
    {
      "cell_type": "markdown",
      "source": [],
      "metadata": {
        "id": "xR8Oo3gIr6Up"
      }
    },
    {
      "cell_type": "code",
      "source": [
        "my_dict ={\"name\" : \"Alice\",\"age\": 256,\"city\":\"New York\"}\n",
        "print(my_dict[\"name\"]) # Output: Alice"
      ],
      "metadata": {
        "id": "Oe_ln-f89CNL"
      },
      "execution_count": null,
      "outputs": []
    },
    {
      "cell_type": "markdown",
      "source": [
        "5. Why might you use a set instead of a list in Python ?\n",
        "A set is an unordered, mutable collection that stores unique elements. Unlike a list, which allows duplicate and maintain order, a set is optimised for fast membership testing and uniqueness.\n",
        "Features: List\n",
        "Duplicate: Allows duplicates\n",
        "Order: Maintain order\n",
        "Search Speed:0(n) (linear search)\n",
        "Modification: Allows indexing, slicing\n",
        "Features: Set\n",
        "Duplicate: No duplicate allowed\n",
        "Order:Unordered\n",
        "Search Speed:0(1) (hash-based lookup)\n",
        "Modification: No indexing, only add/remove\n",
        "\n",
        "\n"
      ],
      "metadata": {
        "id": "KGrxAt95r8g1"
      }
    },
    {
      "cell_type": "markdown",
      "source": [],
      "metadata": {
        "id": "MHOwILEZuwOG"
      }
    },
    {
      "cell_type": "code",
      "source": [
        "1.  Fast Membership Testing\n",
        "my_list = [1,2,3,4,5]\n",
        "my_set ={1,2,3,4,5}\n",
        "print(3 in my_list) #0(n) search\n",
        "print(3 in my_set) #0(1)search"
      ],
      "metadata": {
        "id": "-PN2fEoPuyMI"
      },
      "execution_count": null,
      "outputs": []
    },
    {
      "cell_type": "code",
      "source": [
        "2. Removing Duplicate from a collection\n",
        "numbers =[1,2,2,3,4,4,5]\n",
        "unique_number = set(number) #{1,2,3,4,5}"
      ],
      "metadata": {
        "id": "AjgOo_LXvbrD"
      },
      "execution_count": null,
      "outputs": []
    },
    {
      "cell_type": "code",
      "source": [
        "3. Efficient Set Operation\n",
        "set1 ={1,2,3}\n",
        "set2 ={3,4,5}\n",
        "print(set1 &set2) # Intersection->{3}\n",
        "print(set1 | set2) # UNION->{1,2,3,4.5}"
      ],
      "metadata": {
        "id": "FfpqezBgwH0S"
      },
      "execution_count": null,
      "outputs": []
    },
    {
      "cell_type": "markdown",
      "source": [
        "6.What is a string in Python, and how is it different from a list?\n",
        "A string in Python is a sequence of characters enclosed in quotes (\"\"or'') .It is immutable, meaning it cannot be changed after creation.\n"
      ],
      "metadata": {
        "id": "gYDsO72Pwzvf"
      }
    },
    {
      "cell_type": "code",
      "source": [
        "String Example\n",
        "my_str =\"hello\"\n",
        "#my_str[0] = \"H\" # x This will raise an error\n",
        "new_str =\"H\" + my_str[1:] # create a new string\n",
        "print(new_str) # Output: \"Hello\""
      ],
      "metadata": {
        "id": "Vri9cVSyyWZ7"
      },
      "execution_count": null,
      "outputs": []
    },
    {
      "cell_type": "code",
      "source": [
        "List Example\n",
        "my_list = [\"h\", \"e\", \"1\",\"0\"]\n",
        "my_list[0] =\"H\"# Modifying directly\n",
        "print(my_list) #Output: ['H','e','1','1','0']"
      ],
      "metadata": {
        "id": "W1EQhUhWzUzE"
      },
      "execution_count": null,
      "outputs": []
    },
    {
      "cell_type": "markdown",
      "source": [
        "7. How do tuples ensure data integrity in Python?\n",
        "A tuple in Python is an immutable sequence, meaning its element cannot be changed, added, or removed after creation. This immutability plays a key role in data integrity, ensuring thst data remains cinsistent, secure,and reliable throughout program execution.\n"
      ],
      "metadata": {
        "id": "8sN-Iu3M0H10"
      }
    },
    {
      "cell_type": "code",
      "source": [
        "1. Prevention of Accidental Modification\n",
        "my_tuple =(1,2,3,)\n",
        "#my_tuple[0] = 10 x This will raise an error"
      ],
      "metadata": {
        "id": "8Ek_3Bf01q9q"
      },
      "execution_count": null,
      "outputs": []
    },
    {
      "cell_type": "code",
      "source": [
        "2. Reliable Hashing &Dicitionary Keys\n",
        "my_dict ={(1,2): \"Point A\" ,(3,4):\"Point B\"}\n",
        "Print(my_dict[(1,2)] # Output:\"Point A\""
      ],
      "metadata": {
        "id": "LlgVoac62K8T"
      },
      "execution_count": null,
      "outputs": []
    },
    {
      "cell_type": "code",
      "source": [
        "3. Encapsulation of fixed Data\n",
        "def get_coordinates():\n",
        "     return (10.5, 20.3) # Allways returns the same, unmodifiable tuple"
      ],
      "metadata": {
        "id": "eZRzPCgs3LJV"
      },
      "execution_count": null,
      "outputs": []
    },
    {
      "cell_type": "markdown",
      "source": [
        "8. What is a hash table, and how does it relate to dictionaries in Python?\n",
        "A hash table is a data structure that stores key-value pairs and provides fast access to values using keys. It works by applying a hash function to a key, which generates an index where the values is stored in an array\n"
      ],
      "metadata": {
        "id": "W1Wb5Xgp4BOL"
      }
    },
    {
      "cell_type": "code",
      "source": [
        "my_dict ={\"name\": \"Alice\",\"age\":25,\"city\": \"New York\"}\n",
        "#Fast key lookup (0(1))\n",
        "print(my_dict[\"name\"]) # Output: Alice"
      ],
      "metadata": {
        "id": "J1E8k3JI5_kH"
      },
      "execution_count": null,
      "outputs": []
    },
    {
      "cell_type": "markdown",
      "source": [
        "8. Can lists contain different data types in Python?\n",
        "Yes list in python are heterogeneous meaning they can store elements of different data types within the same list.This flexibility makes lists very powerful.\n"
      ],
      "metadata": {
        "id": "HGiwQUdh7D-S"
      }
    },
    {
      "cell_type": "code",
      "source": [],
      "metadata": {
        "id": "7lUVm6_58ZKe"
      },
      "execution_count": null,
      "outputs": []
    },
    {
      "cell_type": "code",
      "source": [
        "my_list =[42,\"hello\",3.14,True,[1,2,3],{\"key\":\"value\"}]\n",
        "print (my_lists)\n",
        "# Output: [42,'hello',3.14,True,[1,2,3],{'key':'value'}]"
      ],
      "metadata": {
        "id": "COxjOTVV8LGC"
      },
      "execution_count": null,
      "outputs": []
    },
    {
      "cell_type": "markdown",
      "source": [
        "10. Explain why strings are immutable in Python?\n",
        "In Python, strings are immutable, meaning that once a string is created,it cannot be changed. Any modification creates a new string object instead of altering the original.\n"
      ],
      "metadata": {
        "id": "GCE7FTrD9HCD"
      }
    },
    {
      "cell_type": "code",
      "source": [
        "1. Memory Efficiency\n",
        "a =\"hello\"\n",
        "b =\"hello\"\n",
        "print(a is b) # Output: True (Both reference the same object)"
      ],
      "metadata": {
        "id": "z2lOqzSo-hZK"
      },
      "execution_count": null,
      "outputs": []
    },
    {
      "cell_type": "code",
      "source": [
        "2. Security & Data Integrity\n",
        "my_dict = {\"key\":\"value\"}\n",
        "# If \"key\" were mutable, it could change, breaking dictionary integrity."
      ],
      "metadata": {
        "id": "Cg4ts2Qo_K0z"
      },
      "execution_count": null,
      "outputs": []
    },
    {
      "cell_type": "markdown",
      "source": [
        "11. What advantages do dictionaries offer over lists for certain tasks?\n",
        "- 1. Key-Value Pairing (Mapping)\n",
        "Dictionaries allow you to store data as key-value pairs. This makes them ideal for situations where each item has a unique identifier (the key), and you need to look up values efficiently.\n",
        "Lists, on the other hand, store elements in an ordered sequence, so you don't have a direct way to associate a specific key with a value.\n",
        "- . Faster Lookups\n",
        "Dictionaries provide O(1) average time complexity for lookups, insertions, and deletions due to their hash table-based implementation. This means you can quickly access or modify values associated with a specific key.\n",
        "Lists have O(n) time complexity for searching by value because you have to traverse the list from the beginning to find the item.\n",
        "\n",
        "\n"
      ],
      "metadata": {
        "id": "z2YKY1VcLhnq"
      }
    },
    {
      "cell_type": "markdown",
      "source": [
        "12. Describe a scenario where using a tuple would be preferable over a list?\n",
        "-  .Tuples are commonly used to store heterogeneous data, meaning collections of items of different types. For example, representing a person's information with a name, age, and gender:\n",
        "- .If you have a collection of data that should not be modified, using a tuple ensures that its contents remain constant throughout the program. For instance, representing RGB color values:\n",
        "\n",
        "\n"
      ],
      "metadata": {
        "id": "xw7ax31fNlXj"
      }
    },
    {
      "cell_type": "markdown",
      "source": [
        "13 How do sets handle duplicate values in Python?\n",
        "- . In Python, sets automatically handle duplicate values by removing them. A set is an unordered collection of unique elements, meaning it does not allow duplicate values. If you try to add a duplicate element to a set, Python will simply ignore it, and the set will remain unchanged 🚀\n",
        "\n",
        "\n",
        "\n",
        "\n",
        "\n",
        "\n",
        "\n",
        "\n",
        "\n"
      ],
      "metadata": {
        "id": "pbdHA6FfQLUS"
      }
    },
    {
      "cell_type": "markdown",
      "source": [
        "14. How does the “in” keyword work differently for lists and dictionaries?\n",
        "-.It checks whether a specific value is present in the list.\n",
        "It performs a linear search, meaning it checks each element one by one.\n",
        "The time complexity is O(n) in the worst case.\n",
        "It checks for keys, not values.\n",
        "The lookup is much faster because dictionaries use hashing (average time complexity .To check for values, you need to explicitly search using .values().\n",
        "\n",
        "\n",
        "\n"
      ],
      "metadata": {
        "id": "mJzZTnwaVMne"
      }
    },
    {
      "cell_type": "markdown",
      "source": [
        "15 Can you modify the elements of a tuple? Explain why or why not.\n",
        "-.Memory Optimization: Tuples are stored more efficiently than lists because they are fixed in size.\n",
        "Hashability: Tuples can be used as dictionary keys or in sets, whereas lists cannot.\n",
        "Data Integrity: Since they cannot be changed, they are useful for storing fixed data\n"
      ],
      "metadata": {
        "id": "dYz21yFjXtAp"
      }
    },
    {
      "cell_type": "markdown",
      "source": [
        "16 What is a nested dictionary, and give an example of its use case?\n",
        "-  .\n",
        "A nested dictionary is a dictionary that contains one or more dictionaries as values. This allows you to structure data hierarchically, making it easier to organize and access related information.\n",
        "\n",
        "\n",
        "\n",
        "\n",
        "\n",
        "\n",
        "\n",
        "\n",
        "\n"
      ],
      "metadata": {
        "id": "u2Aw9oSfYu1G"
      }
    },
    {
      "cell_type": "markdown",
      "source": [
        "17 Describe the time complexity of accessing elements in a dictionary?\n",
        "- .Time Complexity of Accessing Elements in a Dictionary (dict) in Python 🚀\n",
        "Python dictionaries are implemented using hash tables, making element access extremely efficient.\n",
        "\n",
        "✅ Average Case (O(1)):\n",
        "Dictionary lookups (dict[key]) are O(1) on average because Python uses hashing to find the key directly. Worst Case (O(n)):\n",
        "If multiple keys have the same hash (hash collisions), Python needs to search through those keys, leading to O(n) complexity.\n",
        "However, Python uses advanced techniques like open addressing and rehashing to minimize collisions.\n",
        "Other Dictionary Operations & Complexity\n",
        "Operation\tAverage Case\tWorst Case\n",
        "Access (dict[key])\tO(1)\tO(n)\n",
        "Insert (dict[key] = value)\tO(1)\tO(n)\n",
        "Delete (del dict[key])\tO(1)\tO(n)\n",
        "Check key (key in dict)\tO(1)\tO(n)\n",
        "Key Takeaway 🏆\n",
        "In most practical cases, dictionary access is O(1), making it much faster than lists (O(n)) for lookups.\n",
        "\n",
        "\n"
      ],
      "metadata": {
        "id": "Li39N_rTZxF7"
      }
    },
    {
      "cell_type": "markdown",
      "source": [
        "18 . In what situations are lists preferred over dictionaries?\n",
        "- .✅ 1. When Order Matters (Preserving Sequence)\n",
        "Lists maintain the order of elements naturally.\n",
        "Dictionaries (since Python 3.7) also maintain order, but lists are simpler when order is the primary concern.\n",
        "2. When You Need Indexed Access\n",
        "Lists allow fast access via integer indices.\n",
        "Dictionaries require keys, making indexed retrieval more complex.\n",
        "\n",
        "\n",
        "✅ 3. When Memory Efficiency is Important\n",
        "Lists use less memory than dictionaries since they don’t need to store keys.\n",
        "\n",
        "\n",
        "✅ 4. When You Need to Store Homogeneous Data\n",
        "Lists are better for collections of similar data types, like a list of numbers or strings\n",
        "\n",
        "✅ 5. When Iteration Speed is Important\n",
        "Iterating over a list is faster than iterating over a dictionary because dictionaries have extra overhead for hashing.\n",
        "\n",
        "\n",
        "\n",
        "\n",
        "\n",
        "\n",
        "\n",
        "\n"
      ],
      "metadata": {
        "id": "e2jNEZa8axT4"
      }
    },
    {
      "cell_type": "markdown",
      "source": [
        "19 Why are dictionaries considered unordered, and how does that affect data retrieval?\n",
        "- .Historically, dictionaries were considered unordered because they were implemented as hash tables. In versions before Python 3.7, dictionaries did not maintain the insertion order of key-value pairs. Instead, the order of items could appear random due to the way Python handled hashing internally.\n",
        "\n",
        "However, since Python 3.7, dictionaries now maintain insertion order as an implementation detail, and in Python 3.8+, this behavior is officially guaranteed.\n",
        "\n",
        "Dictionaries did not maintain insertion order, so iterating over keys or values could return items in a different order than they were added.Older Python Versions (<3.7)\n",
        "\n",
        "Dictionaries did not maintain insertion order, so iterating over keys or values could return items in a different order than they were added.\n",
        "\n",
        "\n"
      ],
      "metadata": {
        "id": "-w-kEvlwcGi7"
      }
    },
    {
      "cell_type": "markdown",
      "source": [
        "20. Explain the difference between a list and a dictionary in terms of data retrieval.\n",
        "- .🔹 1. Lists: Retrieval by Index (O(1)) or Search (O(n))\n",
        "Lists store elements sequentially and allow access using numeric indices.\n",
        "Direct indexing (O(1)): Retrieving an item by its index is fast.\n",
        "Searching by value (O(n)): If you don’t know the index and need to find an element, Python must scan the list.\n",
        "\n"
      ],
      "metadata": {
        "id": "Ff1lTYLHdMSQ"
      }
    },
    {
      "cell_type": "markdown",
      "source": [
        "1. Write a code to create a string with your name and print it.\n"
      ],
      "metadata": {
        "id": "q7v97wlx-rnZ"
      }
    },
    {
      "cell_type": "code",
      "source": [
        "# Creating a string with my name\n",
        "name = \"ChatGPT\"\n",
        "\n",
        "# Printing the string\n",
        "print(name)\n"
      ],
      "metadata": {
        "id": "7iqUOkND-7I1"
      },
      "execution_count": null,
      "outputs": []
    },
    {
      "cell_type": "markdown",
      "source": [
        "2. Write a code to find the length of the string \"Hello World\".\n"
      ],
      "metadata": {
        "id": "VyP543pD_fEh"
      }
    },
    {
      "cell_type": "code",
      "source": [
        "# Define the string\n",
        "text = \"Hello World\"\n",
        "\n",
        "# Find the length of the string\n",
        "length = len(text)\n",
        "\n",
        "# Print the length\n",
        "print(length)\n"
      ],
      "metadata": {
        "id": "F9L_fQMw_yx_"
      },
      "execution_count": null,
      "outputs": []
    },
    {
      "cell_type": "markdown",
      "source": [
        "3. Write a code to slice the first 3 characters from the string \"Python Programming\".\n"
      ],
      "metadata": {
        "id": "uyAahBBYAEhK"
      }
    },
    {
      "cell_type": "code",
      "source": [
        "# Define the string\n",
        "text = \"Python Programming\"\n",
        "\n",
        "# Slice the first 3 characters\n",
        "sliced_text = text[:3]\n",
        "\n",
        "# Print the sliced text\n",
        "print(sliced_text)\n"
      ],
      "metadata": {
        "id": "BH9NlSQsAcjK"
      },
      "execution_count": null,
      "outputs": []
    },
    {
      "cell_type": "markdown",
      "source": [
        "4. Write a code to convert the string \"hello\" to uppercase.\n"
      ],
      "metadata": {
        "id": "-pG9ef3LAf-r"
      }
    },
    {
      "cell_type": "code",
      "source": [
        "# Define the string\n",
        "text = \"hello\"\n",
        "\n",
        "# Convert the string to uppercase\n",
        "upper_text = text.upper()\n",
        "\n",
        "# Print the uppercase string\n",
        "print(upper_text)\n"
      ],
      "metadata": {
        "id": "ytB-tk7wBC5V"
      },
      "execution_count": null,
      "outputs": []
    },
    {
      "cell_type": "markdown",
      "source": [
        "5. Write a code to replace the word \"apple\" with \"orange\" in the string \"I like apple\".\n",
        "\n"
      ],
      "metadata": {
        "id": "LS9b_e8FBMXk"
      }
    },
    {
      "cell_type": "code",
      "source": [
        "# Original string\n",
        "text = \"I like apple\"\n",
        "\n",
        "# Replace \"apple\" with \"orange\"\n",
        "new_text = text.replace(\"apple\", \"orange\")\n",
        "\n",
        "# Output the modified string\n",
        "print(new_text)\n"
      ],
      "metadata": {
        "id": "y9IdtnsaCI9A"
      },
      "execution_count": null,
      "outputs": []
    },
    {
      "cell_type": "markdown",
      "source": [
        "6. Write a code to create a list with numbers 1 to 5 and print it.\n"
      ],
      "metadata": {
        "id": "bHlgpMY1Cebr"
      }
    },
    {
      "cell_type": "code",
      "source": [
        "# Create a list with numbers from 1 to 5\n",
        "numbers = [1, 2, 3, 4, 5]\n",
        "\n",
        "# Print the list\n",
        "print(numbers)\n",
        "[1, 2, 3, 4, 5]\n"
      ],
      "metadata": {
        "id": "G_58uMiACr7C"
      },
      "execution_count": null,
      "outputs": []
    },
    {
      "cell_type": "markdown",
      "source": [
        "7. Write a code to append the number 10 to the list [1, 2, 3, 4].\n"
      ],
      "metadata": {
        "id": "86JGV83zDdk2"
      }
    },
    {
      "cell_type": "code",
      "source": [
        "# Original list\n",
        "numbers = [1, 2, 3, 4]\n",
        "\n",
        "# Append the number 10 to the list\n",
        "numbers.append(10)\n",
        "\n",
        "# Print the updated list\n",
        "print(numbers)\n",
        "[1, 2, 3, 4, 10]\n",
        "\n"
      ],
      "metadata": {
        "id": "ib4CM5GpEKNr"
      },
      "execution_count": null,
      "outputs": []
    },
    {
      "cell_type": "markdown",
      "source": [
        "8. Write a code to remove the number 3 from the list [1, 2, 3, 4, 5].\n"
      ],
      "metadata": {
        "id": "ED_Lea-1En7f"
      }
    },
    {
      "cell_type": "code",
      "source": [
        "# Original list\n",
        "numbers = [1, 2, 3, 4, 5]\n",
        "\n",
        "# Remove the number 3 from the list\n",
        "numbers.remove(3)\n",
        "\n",
        "# Print the updated list\n",
        "print(numbers)\n",
        "[1, 2, 4, 5]\n"
      ],
      "metadata": {
        "id": "qvJlYp52E1oB"
      },
      "execution_count": null,
      "outputs": []
    },
    {
      "cell_type": "markdown",
      "source": [
        "9. Write a code to access the second element in the list ['a', 'b', 'c', 'd'].\n"
      ],
      "metadata": {
        "id": "3t5paLAHE6Nj"
      }
    },
    {
      "cell_type": "code",
      "source": [
        "# List of elements\n",
        "letters = ['a', 'b', 'c', 'd']\n",
        "\n",
        "# Access the second element (index 1)\n",
        "second_element = letters[1]\n",
        "\n",
        "# Print the second element\n",
        "print(second_element)\n",
        "b\n"
      ],
      "metadata": {
        "id": "vevZA3xkFDaW"
      },
      "execution_count": null,
      "outputs": []
    },
    {
      "cell_type": "markdown",
      "source": [
        "10. Write a code to reverse the list [10, 20, 30, 40, 50]."
      ],
      "metadata": {
        "id": "yMQuxBMZFN81"
      }
    },
    {
      "cell_type": "code",
      "source": [],
      "metadata": {
        "id": "9WG6rk9qFdg6"
      },
      "execution_count": null,
      "outputs": []
    },
    {
      "cell_type": "code",
      "source": [
        "# Original list\n",
        "numbers = [10, 20, 30, 40, 50]\n",
        "\n",
        "# Reverse the list\n",
        "numbers.reverse()\n",
        "\n",
        "# Print the reversed list\n",
        "print(numbers)\n",
        "[50, 40, 30, 20, 10]\n"
      ],
      "metadata": {
        "id": "872ptLU6FeCv"
      },
      "execution_count": null,
      "outputs": []
    },
    {
      "cell_type": "markdown",
      "source": [
        "11. Write a code to create a tuple with the elements 100, 200, 300 and print it.\n",
        "\n"
      ],
      "metadata": {
        "id": "JWHr6a1PFoDZ"
      }
    },
    {
      "cell_type": "code",
      "source": [
        "# Create a tuple with elements 100, 200, 300\n",
        "my_tuple = (100, 200, 300)\n",
        "\n",
        "# Print the tuple\n",
        "print(my_tuple)\n",
        "(100, 200, 300)\n"
      ],
      "metadata": {
        "id": "wgFbjYI0GBmD"
      },
      "execution_count": null,
      "outputs": []
    },
    {
      "cell_type": "markdown",
      "source": [
        "12. Write a code to access the second-to-last element of the tuple ('red', 'green', 'blue', 'yellow')."
      ],
      "metadata": {
        "id": "6KthAOWNGcuv"
      }
    },
    {
      "cell_type": "code",
      "source": [
        "# Tuple of colors\n",
        "colors = ('red', 'green', 'blue', 'yellow')\n",
        "\n",
        "# Access the second-to-last element\n",
        "second_to_last = colors[-2]\n",
        "\n",
        "# Print the second-to-last element\n",
        "print(second_to_last)\n",
        "blue\n"
      ],
      "metadata": {
        "id": "iO4QO9fbGsv2"
      },
      "execution_count": null,
      "outputs": []
    },
    {
      "cell_type": "markdown",
      "source": [
        "13. Write a code to find the minimum number in the tuple (10, 20, 5, 15)."
      ],
      "metadata": {
        "id": "KL7tVD8MHNGF"
      }
    },
    {
      "cell_type": "code",
      "source": [
        "# Tuple of numbers\n",
        "numbers = (10, 20, 5, 15)\n",
        "\n",
        "# Find the minimum number in the tuple\n",
        "min_number = min(numbers)\n",
        "\n",
        "# Print the minimum number\n",
        "print(min_number)\n",
        "5\n"
      ],
      "metadata": {
        "id": "8FuKxbMZHg2o"
      },
      "execution_count": null,
      "outputs": []
    },
    {
      "cell_type": "markdown",
      "source": [
        "14. Write a code to find the index of the element \"cat\" in the tuple ('dog', 'cat', 'rabbit')."
      ],
      "metadata": {
        "id": "t4Zgg-jvHlLI"
      }
    },
    {
      "cell_type": "code",
      "source": [
        "# Tuple of animals\n",
        "animals = ('dog', 'cat', 'rabbit')\n",
        "\n",
        "# Find the index of the element \"cat\"\n",
        "index_of_cat = animals.index('cat')\n",
        "\n",
        "# Print the index\n",
        "print(index_of_cat)\n",
        "1\n"
      ],
      "metadata": {
        "id": "r4TWHE57HxCE"
      },
      "execution_count": null,
      "outputs": []
    },
    {
      "cell_type": "markdown",
      "source": [
        "15. Write a code to create a tuple containing three different fruits and check if \"kiwi\" is in it."
      ],
      "metadata": {
        "id": "dS8mJQycH0qp"
      }
    },
    {
      "cell_type": "code",
      "source": [
        "# Tuple of fruits\n",
        "fruits = ('apple', 'banana', 'cherry')\n",
        "\n",
        "# Check if \"kiwi\" is in the tuple\n",
        "is_kiwi_in_tuple = 'kiwi' in fruits\n",
        "\n",
        "# Print the result\n",
        "print(is_kiwi_in_tuple)\n",
        "False\n"
      ],
      "metadata": {
        "id": "HhFkB82yIGn2"
      },
      "execution_count": null,
      "outputs": []
    },
    {
      "cell_type": "markdown",
      "source": [
        "16. Write a code to create a set with the elements 'a', 'b', 'c' and print it."
      ],
      "metadata": {
        "id": "DK5B69uVIPb3"
      }
    },
    {
      "cell_type": "code",
      "source": [
        "# Create a set with elements 'a', 'b', 'c'\n",
        "my_set = {'a', 'b', 'c'}\n",
        "\n",
        "# Print the set\n",
        "print(my_set)\n",
        "{'a', 'b', 'c'}\n"
      ],
      "metadata": {
        "id": "fV_-dymvIbmi"
      },
      "execution_count": null,
      "outputs": []
    },
    {
      "cell_type": "markdown",
      "source": [
        "17. Write a code to clear all elements from the set {1, 2, 3, 4, 5}."
      ],
      "metadata": {
        "id": "izE8cwT0I2Vv"
      }
    },
    {
      "cell_type": "code",
      "source": [
        "# Create a set\n",
        "my_set = {1, 2, 3, 4, 5}\n",
        "\n",
        "# Clear all elements from the set\n",
        "my_set.clear()\n",
        "\n",
        "# Print the cleared set\n",
        "print(my_set)\n",
        "set()\n"
      ],
      "metadata": {
        "id": "IqO6U6SIJEH3"
      },
      "execution_count": null,
      "outputs": []
    },
    {
      "cell_type": "markdown",
      "source": [
        "18. Write a code to remove the element 4 from the set {1, 2, 3, 4}."
      ],
      "metadata": {
        "id": "3L_ib-MMJT_R"
      }
    },
    {
      "cell_type": "code",
      "source": [
        "# Create a set\n",
        "my_set = {1, 2, 3, 4}\n",
        "\n",
        "# Remove the element 4 from the set\n",
        "my_set.remove(4)\n",
        "\n",
        "# Print the updated set\n",
        "print(my_set)\n",
        "{1, 2, 3}\n"
      ],
      "metadata": {
        "id": "M5Xj10-AJiUc"
      },
      "execution_count": null,
      "outputs": []
    },
    {
      "cell_type": "markdown",
      "source": [
        "19. Write a code to find the union of two sets {1, 2, 3} and {3, 4, 5}."
      ],
      "metadata": {
        "id": "Pe7WN1CyJmod"
      }
    },
    {
      "cell_type": "code",
      "source": [
        "# Create two sets\n",
        "set1 = {1, 2, 3}\n",
        "set2 = {3, 4, 5}\n",
        "\n",
        "# Find the union of the two sets\n",
        "union_set = set1.union(set2)\n",
        "\n",
        "# Print the union of the sets\n",
        "print(union_set)\n",
        "{1, 2, 3, 4, 5}\n",
        "union_set = set1 | set2\n"
      ],
      "metadata": {
        "id": "NNEzmWZjJvgt"
      },
      "execution_count": null,
      "outputs": []
    },
    {
      "cell_type": "markdown",
      "source": [
        "20. Write a code to find the intersection of two sets {1, 2, 3} and {2, 3, 4}."
      ],
      "metadata": {
        "id": "PBpp2UK0J6df"
      }
    },
    {
      "cell_type": "markdown",
      "source": [],
      "metadata": {
        "id": "Q57Dpvp6J62v"
      }
    },
    {
      "cell_type": "code",
      "source": [
        "# Create two sets\n",
        "set1 = {1, 2, 3}\n",
        "set2 = {2, 3, 4}\n",
        "\n",
        "# Find the intersection of the two sets\n",
        "intersection_set = set1.intersection(set2)\n",
        "\n",
        "# Print the intersection of the sets\n",
        "print(intersection_set)\n",
        "{2, 3}\n",
        "intersection_set = set1 & set2\n"
      ],
      "metadata": {
        "id": "8eDNalZSKF7f"
      },
      "execution_count": null,
      "outputs": []
    },
    {
      "cell_type": "markdown",
      "source": [
        "21. Write a code to create a dictionary with the keys \"name\", \"age\", and \"city\", and print it."
      ],
      "metadata": {
        "id": "KdwEFScRKV1B"
      }
    },
    {
      "cell_type": "code",
      "source": [
        "# Create a dictionary\n",
        "my_dict = {\n",
        "    \"name\": \"John\",\n",
        "    \"age\": 30,\n",
        "    \"city\": \"New York\"\n",
        "}\n",
        "\n",
        "# Print the dictionary\n",
        "print(my_dict)\n",
        "{'name': 'John', 'age': 30, 'city': 'New York'}\n"
      ],
      "metadata": {
        "id": "6LAjKzyiKen0"
      },
      "execution_count": null,
      "outputs": []
    },
    {
      "cell_type": "markdown",
      "source": [
        "22. Write a code to add a new key-value pair \"country\": \"USA\" to the dictionary {'name': 'John', 'age': 25}."
      ],
      "metadata": {
        "id": "Gfh9N71CKrNT"
      }
    },
    {
      "cell_type": "code",
      "source": [
        "# Original dictionary\n",
        "my_dict = {'name': 'John', 'age': 25}\n",
        "\n",
        "# Add a new key-value pair\n",
        "my_dict[\"country\"] = \"USA\"\n",
        "\n",
        "# Print the updated dictionary\n",
        "print(my_dict)\n",
        "{'name': 'John', 'age': 25, 'country': 'USA'}\n"
      ],
      "metadata": {
        "id": "MGXzRAzALKWy"
      },
      "execution_count": null,
      "outputs": []
    },
    {
      "cell_type": "markdown",
      "source": [
        "23. Write a code to access the value associated with the key \"name\" in the dictionary {'name': 'Alice', 'age': 30}."
      ],
      "metadata": {
        "id": "7AglGQzNLPbh"
      }
    },
    {
      "cell_type": "code",
      "source": [
        "# Dictionary\n",
        "my_dict = {'name': 'Alice', 'age': 30}\n",
        "\n",
        "# Access the value associated with the key \"name\"\n",
        "name_value = my_dict[\"name\"]\n",
        "\n",
        "# Print the value\n",
        "print(name_value)\n",
        "Alice\n"
      ],
      "metadata": {
        "id": "NLvKNSKWLgrI"
      },
      "execution_count": null,
      "outputs": []
    },
    {
      "cell_type": "markdown",
      "source": [
        "24. Write a code to remove the key \"age\" from the dictionary {'name': 'Bob', 'age': 22, 'city': 'New York'}."
      ],
      "metadata": {
        "id": "Wa7DIsDXLtrN"
      }
    },
    {
      "cell_type": "code",
      "source": [
        "# Original dictionary\n",
        "my_dict = {'name': 'Bob', 'age': 22, 'city': 'New York'}\n",
        "\n",
        "# Remove the key \"age\"\n",
        "del my_dict['age']\n",
        "\n",
        "# Print the updated dictionary\n",
        "print(my_dict)\n",
        "{'name': 'Bob', 'city': 'New York'}\n"
      ],
      "metadata": {
        "id": "pO8qhXbuMApv"
      },
      "execution_count": null,
      "outputs": []
    },
    {
      "cell_type": "markdown",
      "source": [
        "25. Write a code to check if the key \"city\" exists in the dictionary {'name': 'Alice', 'city': 'Paris'}."
      ],
      "metadata": {
        "id": "9AbZJrifMEo5"
      }
    },
    {
      "cell_type": "code",
      "source": [
        "# Dictionary\n",
        "my_dict = {'name': 'Alice', 'city': 'Paris'}\n",
        "\n",
        "# Check if the key \"city\" exists in the dictionary\n",
        "if \"city\" in my_dict:\n",
        "    print(\"The key 'city' exists in the dictionary.\")\n",
        "else:\n",
        "    print(\"The key 'city' does not exist in the dictionary.\")\n",
        "The key 'city' exists in the dictionary.\n"
      ],
      "metadata": {
        "id": "rS0EqzEWMZcw"
      },
      "execution_count": null,
      "outputs": []
    },
    {
      "cell_type": "markdown",
      "source": [
        "26. Write a code to create a list, a tuple, and a dictionary, and print them all."
      ],
      "metadata": {
        "id": "P7GbPsUfMkpJ"
      }
    },
    {
      "cell_type": "markdown",
      "source": [],
      "metadata": {
        "id": "BGZXM8TpM1sS"
      }
    },
    {
      "cell_type": "code",
      "source": [
        "# Create a list\n",
        "my_list = [1, 2, 3, 4, 5]\n",
        "\n",
        "# Create a tuple\n",
        "my_tuple = ('apple', 'banana', 'cherry')\n",
        "\n",
        "# Create a dictionary\n",
        "my_dict = {'name': 'Alice', 'age': 30, 'city': 'Paris'}\n",
        "\n",
        "# Print the list, tuple, and dictionary\n",
        "print(\"List:\", my_list)\n",
        "print(\"Tuple:\", my_tuple)\n",
        "print(\"Dictionary:\", my_dict)\n",
        "List: [1, 2, 3, 4, 5]\n",
        "Tuple: ('apple', 'banana', 'cherry')\n",
        "Dictionary: {'name': 'Alice', 'age': 30, 'city': 'Paris'}\n"
      ],
      "metadata": {
        "id": "idj95nUfM656"
      },
      "execution_count": null,
      "outputs": []
    },
    {
      "cell_type": "markdown",
      "source": [
        "27. Write a code to create a list of 5 random numbers between 1 and 100, sort it in ascending order, and print the\n",
        "result.(replaced)\n",
        "\n"
      ],
      "metadata": {
        "id": "dL7Oh0jlNA_v"
      }
    },
    {
      "cell_type": "code",
      "source": [
        "import random\n",
        "\n",
        "# Create a list of 5 random numbers between 1 and 100\n",
        "random_numbers = random.sample(range(1, 101), 5)\n",
        "\n",
        "# Sort the list in ascending order\n",
        "random_numbers.sort()\n",
        "\n",
        "# Print the sorted list\n",
        "print(random_numbers)\n"
      ],
      "metadata": {
        "id": "XT_XLlQeNRr9"
      },
      "execution_count": null,
      "outputs": []
    },
    {
      "cell_type": "markdown",
      "source": [
        "28. Write a code to create a list with strings and print the element at the third index."
      ],
      "metadata": {
        "id": "HjC4bYDjNeq-"
      }
    },
    {
      "cell_type": "code",
      "source": [
        "# Create a list with strings\n",
        "my_list = [\"apple\", \"banana\", \"cherry\", \"date\", \"elderberry\"]\n",
        "\n",
        "# Print the element at the third index\n",
        "print(my_list[3])\n",
        "date\n"
      ],
      "metadata": {
        "id": "1UUqMZX6NxDh"
      },
      "execution_count": null,
      "outputs": []
    },
    {
      "cell_type": "markdown",
      "source": [
        "29. Write a code to combine two dictionaries into one and print the result."
      ],
      "metadata": {
        "id": "5HGLJY07OBDw"
      }
    },
    {
      "cell_type": "code",
      "source": [
        "# Define two dictionaries\n",
        "dict1 = {'name': 'Alice', 'age': 30}\n",
        "dict2 = {'city': 'Paris', 'country': 'France'}\n",
        "\n",
        "# Combine the two dictionaries\n",
        "combined_dict = {**dict1, **dict2}\n",
        "\n",
        "# Print the combined dictionary\n",
        "print(combined_dict)\n",
        "{'name': 'Alice', 'age': 30, 'city': 'Paris', 'country': 'France'}\n"
      ],
      "metadata": {
        "id": "MadqELkPOPXp"
      },
      "execution_count": null,
      "outputs": []
    },
    {
      "cell_type": "markdown",
      "source": [
        "30. Write a code to convert a list of strings into a set."
      ],
      "metadata": {
        "id": "cRHeWUCYOWa6"
      }
    },
    {
      "cell_type": "code",
      "source": [
        "# Create a list of strings\n",
        "my_list = [\"apple\", \"banana\", \"cherry\", \"apple\", \"banana\"]\n",
        "\n",
        "# Convert the list into a set\n",
        "my_set = set(my_list)\n",
        "\n",
        "# Print the set\n",
        "print(my_set)\n",
        "{'apple', 'banana', 'cherry'}\n"
      ],
      "metadata": {
        "id": "idHG21PxOlqe"
      },
      "execution_count": null,
      "outputs": []
    }
  ]
}